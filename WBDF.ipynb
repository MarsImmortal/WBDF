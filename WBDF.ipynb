{
 "cells": [
  {
   "cell_type": "code",
   "execution_count": null,
   "metadata": {
    "id": "RcDuY-kfcjcg"
   },
   "outputs": [],
   "source": [
    "!git clone https://github.com/MarsImmortal/WBDF.git\n",
    "%cd WBDF\n",
    "!ls"
   ]
  },
  {
   "cell_type": "code",
   "execution_count": null,
   "metadata": {
    "id": "dLXoJoN9clr9"
   },
   "outputs": [],
   "source": [
    "!pip install numpy pandas matplotlib scikit-learn networkx tqdm tensorflow #deepctr #pyitlib"
   ]
  },
  {
   "cell_type": "code",
   "execution_count": null,
   "metadata": {
    "id": "ByRR8KCscnit"
   },
   "outputs": [],
   "source": [
    "!pip install deepctr[cpu]"
   ]
  },
  {
   "cell_type": "code",
   "execution_count": null,
   "metadata": {
    "id": "ru0SZlntdaLP"
   },
   "outputs": [],
   "source": [
    "!wget https://github.com/shenweichen/DeepCTR/releases/download/v0.9.3/deepctr-0.9.3-py2-none-any.whl"
   ]
  },
  {
   "cell_type": "code",
   "execution_count": null,
   "metadata": {
    "id": "XCN1ymKmdfDy"
   },
   "outputs": [],
   "source": [
    "!pip install TensorRT"
   ]
  },
  {
   "cell_type": "code",
   "execution_count": null,
   "metadata": {
    "id": "Au30CTjBdi4d"
   },
   "outputs": [],
   "source": [
    "!pip install pgmpy"
   ]
  },
  {
   "cell_type": "code",
   "execution_count": null,
   "metadata": {
    "id": "jmY4Dx5odn-f"
   },
   "outputs": [],
   "source": [
    "%cd .."
   ]
  },
  {
   "cell_type": "code",
   "execution_count": null,
   "metadata": {
    "id": "FnqCKiDPdo2v"
   },
   "outputs": [],
   "source": [
    "!ls"
   ]
  },
  {
   "cell_type": "code",
   "execution_count": null,
   "metadata": {
    "id": "WjRigULrdqYj"
   },
   "outputs": [],
   "source": [
    "!git clone https://github.com/hbenazha/pyitlib.git"
   ]
  },
  {
   "cell_type": "code",
   "execution_count": null,
   "metadata": {
    "id": "YFqGYFfqds_j"
   },
   "outputs": [],
   "source": [
    "%cd pyitlib"
   ]
  },
  {
   "cell_type": "code",
   "execution_count": null,
   "metadata": {
    "id": "OvLSOJIvduk-"
   },
   "outputs": [],
   "source": [
    "!pip install ."
   ]
  },
  {
   "cell_type": "code",
   "execution_count": null,
   "metadata": {
    "id": "DYWfKSYzdwSp"
   },
   "outputs": [],
   "source": [
    "%cd ..\n",
    "%cd WBDF\n",
    "!ls"
   ]
  },
  {
   "cell_type": "code",
   "execution_count": null,
   "metadata": {
    "id": "MchpgaeOd2HU"
   },
   "outputs": [],
   "source": [
    "!python3 test.py"
   ]
  }
 ],
 "metadata": {
  "colab": {
   "provenance": []
  },
  "kernelspec": {
   "display_name": "Python 3",
   "name": "python3"
  },
  "language_info": {
   "name": "python"
  }
 },
 "nbformat": 4,
 "nbformat_minor": 0
}
