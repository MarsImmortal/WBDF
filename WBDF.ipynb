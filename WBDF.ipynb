{
  "nbformat": 4,
  "nbformat_minor": 0,
  "metadata": {
    "colab": {
      "provenance": []
    },
    "kernelspec": {
      "name": "python3",
      "display_name": "Python 3"
    },
    "language_info": {
      "name": "python"
    }
  },
  "cells": [
    {
      "cell_type": "code",
      "execution_count": null,
      "metadata": {
        "id": "RcDuY-kfcjcg"
      },
      "outputs": [],
      "source": [
        "!git clone https://github.com/MarsImmortal/WBDF.git\n",
        "%cd WBDF\n",
        "!ls"
      ]
    },
    {
      "cell_type": "code",
      "source": [
        "!pip install numpy pandas matplotlib scikit-learn networkx tqdm tensorflow #deepctr #pyitlib"
      ],
      "metadata": {
        "id": "dLXoJoN9clr9"
      },
      "execution_count": null,
      "outputs": []
    },
    {
      "cell_type": "code",
      "source": [
        "!pip install deepctr[cpu]"
      ],
      "metadata": {
        "id": "ByRR8KCscnit"
      },
      "execution_count": null,
      "outputs": []
    },
    {
      "cell_type": "code",
      "source": [
        "!wget https://github.com/shenweichen/DeepCTR/releases/download/v0.9.3/deepctr-0.9.3-py2-none-any.whl"
      ],
      "metadata": {
        "id": "ru0SZlntdaLP"
      },
      "execution_count": null,
      "outputs": []
    },
    {
      "cell_type": "code",
      "source": [
        "!pip install TensorRT"
      ],
      "metadata": {
        "id": "XCN1ymKmdfDy"
      },
      "execution_count": null,
      "outputs": []
    },
    {
      "cell_type": "code",
      "source": [
        "!pip install pgmpy"
      ],
      "metadata": {
        "id": "Au30CTjBdi4d"
      },
      "execution_count": null,
      "outputs": []
    },
    {
      "cell_type": "code",
      "source": [
        "%cd .."
      ],
      "metadata": {
        "id": "jmY4Dx5odn-f"
      },
      "execution_count": null,
      "outputs": []
    },
    {
      "cell_type": "code",
      "source": [
        "ls"
      ],
      "metadata": {
        "id": "FnqCKiDPdo2v"
      },
      "execution_count": null,
      "outputs": []
    },
    {
      "cell_type": "code",
      "source": [
        "!git clone https://github.com/hbenazha/pyitlib.git"
      ],
      "metadata": {
        "id": "WjRigULrdqYj"
      },
      "execution_count": null,
      "outputs": []
    },
    {
      "cell_type": "code",
      "source": [
        "%cd pyitlib"
      ],
      "metadata": {
        "id": "YFqGYFfqds_j"
      },
      "execution_count": null,
      "outputs": []
    },
    {
      "cell_type": "code",
      "source": [
        "!pip install ."
      ],
      "metadata": {
        "id": "OvLSOJIvduk-"
      },
      "execution_count": null,
      "outputs": []
    },
    {
      "cell_type": "code",
      "source": [
        "%cd ..\n",
        "%cd WBDF\n",
        "ls"
      ],
      "metadata": {
        "id": "DYWfKSYzdwSp"
      },
      "execution_count": null,
      "outputs": []
    },
    {
      "cell_type": "code",
      "source": [
        "!python3 test.py"
      ],
      "metadata": {
        "id": "MchpgaeOd2HU"
      },
      "execution_count": null,
      "outputs": []
    }
  ]
}